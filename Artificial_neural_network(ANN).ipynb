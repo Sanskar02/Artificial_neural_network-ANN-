{
 "cells": [
  {
   "cell_type": "markdown",
   "metadata": {},
   "source": [
    "# Artificial Neural Network"
   ]
  },
  {
   "cell_type": "markdown",
   "metadata": {},
   "source": [
    "# Data Processing"
   ]
  },
  {
   "cell_type": "code",
   "execution_count": 1,
   "metadata": {},
   "outputs": [],
   "source": [
    "import numpy as np\n",
    "import pandas as pd\n",
    "import tensorflow as tf"
   ]
  },
  {
   "cell_type": "code",
   "execution_count": 2,
   "metadata": {},
   "outputs": [
    {
     "data": {
      "text/plain": [
       "'2.4.1'"
      ]
     },
     "execution_count": 2,
     "metadata": {},
     "output_type": "execute_result"
    }
   ],
   "source": [
    "tf.__version__"
   ]
  },
  {
   "cell_type": "code",
   "execution_count": 3,
   "metadata": {},
   "outputs": [],
   "source": [
    "data = pd.read_csv('Churn_Modelling.csv')\n",
    "x = data.iloc[:,3:-1].values\n",
    "y = data.iloc[:,-1].values"
   ]
  },
  {
   "cell_type": "code",
   "execution_count": 4,
   "metadata": {},
   "outputs": [
    {
     "data": {
      "text/html": [
       "<div>\n",
       "<style scoped>\n",
       "    .dataframe tbody tr th:only-of-type {\n",
       "        vertical-align: middle;\n",
       "    }\n",
       "\n",
       "    .dataframe tbody tr th {\n",
       "        vertical-align: top;\n",
       "    }\n",
       "\n",
       "    .dataframe thead th {\n",
       "        text-align: right;\n",
       "    }\n",
       "</style>\n",
       "<table border=\"1\" class=\"dataframe\">\n",
       "  <thead>\n",
       "    <tr style=\"text-align: right;\">\n",
       "      <th></th>\n",
       "      <th>RowNumber</th>\n",
       "      <th>CustomerId</th>\n",
       "      <th>Surname</th>\n",
       "      <th>CreditScore</th>\n",
       "      <th>Geography</th>\n",
       "      <th>Gender</th>\n",
       "      <th>Age</th>\n",
       "      <th>Tenure</th>\n",
       "      <th>Balance</th>\n",
       "      <th>NumOfProducts</th>\n",
       "      <th>HasCrCard</th>\n",
       "      <th>IsActiveMember</th>\n",
       "      <th>EstimatedSalary</th>\n",
       "      <th>Exited</th>\n",
       "    </tr>\n",
       "  </thead>\n",
       "  <tbody>\n",
       "    <tr>\n",
       "      <th>0</th>\n",
       "      <td>1</td>\n",
       "      <td>15634602</td>\n",
       "      <td>Hargrave</td>\n",
       "      <td>619</td>\n",
       "      <td>France</td>\n",
       "      <td>Female</td>\n",
       "      <td>42</td>\n",
       "      <td>2</td>\n",
       "      <td>0.00</td>\n",
       "      <td>1</td>\n",
       "      <td>1</td>\n",
       "      <td>1</td>\n",
       "      <td>101348.88</td>\n",
       "      <td>1</td>\n",
       "    </tr>\n",
       "    <tr>\n",
       "      <th>1</th>\n",
       "      <td>2</td>\n",
       "      <td>15647311</td>\n",
       "      <td>Hill</td>\n",
       "      <td>608</td>\n",
       "      <td>Spain</td>\n",
       "      <td>Female</td>\n",
       "      <td>41</td>\n",
       "      <td>1</td>\n",
       "      <td>83807.86</td>\n",
       "      <td>1</td>\n",
       "      <td>0</td>\n",
       "      <td>1</td>\n",
       "      <td>112542.58</td>\n",
       "      <td>0</td>\n",
       "    </tr>\n",
       "    <tr>\n",
       "      <th>2</th>\n",
       "      <td>3</td>\n",
       "      <td>15619304</td>\n",
       "      <td>Onio</td>\n",
       "      <td>502</td>\n",
       "      <td>France</td>\n",
       "      <td>Female</td>\n",
       "      <td>42</td>\n",
       "      <td>8</td>\n",
       "      <td>159660.80</td>\n",
       "      <td>3</td>\n",
       "      <td>1</td>\n",
       "      <td>0</td>\n",
       "      <td>113931.57</td>\n",
       "      <td>1</td>\n",
       "    </tr>\n",
       "    <tr>\n",
       "      <th>3</th>\n",
       "      <td>4</td>\n",
       "      <td>15701354</td>\n",
       "      <td>Boni</td>\n",
       "      <td>699</td>\n",
       "      <td>France</td>\n",
       "      <td>Female</td>\n",
       "      <td>39</td>\n",
       "      <td>1</td>\n",
       "      <td>0.00</td>\n",
       "      <td>2</td>\n",
       "      <td>0</td>\n",
       "      <td>0</td>\n",
       "      <td>93826.63</td>\n",
       "      <td>0</td>\n",
       "    </tr>\n",
       "    <tr>\n",
       "      <th>4</th>\n",
       "      <td>5</td>\n",
       "      <td>15737888</td>\n",
       "      <td>Mitchell</td>\n",
       "      <td>850</td>\n",
       "      <td>Spain</td>\n",
       "      <td>Female</td>\n",
       "      <td>43</td>\n",
       "      <td>2</td>\n",
       "      <td>125510.82</td>\n",
       "      <td>1</td>\n",
       "      <td>1</td>\n",
       "      <td>1</td>\n",
       "      <td>79084.10</td>\n",
       "      <td>0</td>\n",
       "    </tr>\n",
       "    <tr>\n",
       "      <th>...</th>\n",
       "      <td>...</td>\n",
       "      <td>...</td>\n",
       "      <td>...</td>\n",
       "      <td>...</td>\n",
       "      <td>...</td>\n",
       "      <td>...</td>\n",
       "      <td>...</td>\n",
       "      <td>...</td>\n",
       "      <td>...</td>\n",
       "      <td>...</td>\n",
       "      <td>...</td>\n",
       "      <td>...</td>\n",
       "      <td>...</td>\n",
       "      <td>...</td>\n",
       "    </tr>\n",
       "    <tr>\n",
       "      <th>9995</th>\n",
       "      <td>9996</td>\n",
       "      <td>15606229</td>\n",
       "      <td>Obijiaku</td>\n",
       "      <td>771</td>\n",
       "      <td>France</td>\n",
       "      <td>Male</td>\n",
       "      <td>39</td>\n",
       "      <td>5</td>\n",
       "      <td>0.00</td>\n",
       "      <td>2</td>\n",
       "      <td>1</td>\n",
       "      <td>0</td>\n",
       "      <td>96270.64</td>\n",
       "      <td>0</td>\n",
       "    </tr>\n",
       "    <tr>\n",
       "      <th>9996</th>\n",
       "      <td>9997</td>\n",
       "      <td>15569892</td>\n",
       "      <td>Johnstone</td>\n",
       "      <td>516</td>\n",
       "      <td>France</td>\n",
       "      <td>Male</td>\n",
       "      <td>35</td>\n",
       "      <td>10</td>\n",
       "      <td>57369.61</td>\n",
       "      <td>1</td>\n",
       "      <td>1</td>\n",
       "      <td>1</td>\n",
       "      <td>101699.77</td>\n",
       "      <td>0</td>\n",
       "    </tr>\n",
       "    <tr>\n",
       "      <th>9997</th>\n",
       "      <td>9998</td>\n",
       "      <td>15584532</td>\n",
       "      <td>Liu</td>\n",
       "      <td>709</td>\n",
       "      <td>France</td>\n",
       "      <td>Female</td>\n",
       "      <td>36</td>\n",
       "      <td>7</td>\n",
       "      <td>0.00</td>\n",
       "      <td>1</td>\n",
       "      <td>0</td>\n",
       "      <td>1</td>\n",
       "      <td>42085.58</td>\n",
       "      <td>1</td>\n",
       "    </tr>\n",
       "    <tr>\n",
       "      <th>9998</th>\n",
       "      <td>9999</td>\n",
       "      <td>15682355</td>\n",
       "      <td>Sabbatini</td>\n",
       "      <td>772</td>\n",
       "      <td>Germany</td>\n",
       "      <td>Male</td>\n",
       "      <td>42</td>\n",
       "      <td>3</td>\n",
       "      <td>75075.31</td>\n",
       "      <td>2</td>\n",
       "      <td>1</td>\n",
       "      <td>0</td>\n",
       "      <td>92888.52</td>\n",
       "      <td>1</td>\n",
       "    </tr>\n",
       "    <tr>\n",
       "      <th>9999</th>\n",
       "      <td>10000</td>\n",
       "      <td>15628319</td>\n",
       "      <td>Walker</td>\n",
       "      <td>792</td>\n",
       "      <td>France</td>\n",
       "      <td>Female</td>\n",
       "      <td>28</td>\n",
       "      <td>4</td>\n",
       "      <td>130142.79</td>\n",
       "      <td>1</td>\n",
       "      <td>1</td>\n",
       "      <td>0</td>\n",
       "      <td>38190.78</td>\n",
       "      <td>0</td>\n",
       "    </tr>\n",
       "  </tbody>\n",
       "</table>\n",
       "<p>10000 rows × 14 columns</p>\n",
       "</div>"
      ],
      "text/plain": [
       "      RowNumber  CustomerId    Surname  CreditScore Geography  Gender  Age  \\\n",
       "0             1    15634602   Hargrave          619    France  Female   42   \n",
       "1             2    15647311       Hill          608     Spain  Female   41   \n",
       "2             3    15619304       Onio          502    France  Female   42   \n",
       "3             4    15701354       Boni          699    France  Female   39   \n",
       "4             5    15737888   Mitchell          850     Spain  Female   43   \n",
       "...         ...         ...        ...          ...       ...     ...  ...   \n",
       "9995       9996    15606229   Obijiaku          771    France    Male   39   \n",
       "9996       9997    15569892  Johnstone          516    France    Male   35   \n",
       "9997       9998    15584532        Liu          709    France  Female   36   \n",
       "9998       9999    15682355  Sabbatini          772   Germany    Male   42   \n",
       "9999      10000    15628319     Walker          792    France  Female   28   \n",
       "\n",
       "      Tenure    Balance  NumOfProducts  HasCrCard  IsActiveMember  \\\n",
       "0          2       0.00              1          1               1   \n",
       "1          1   83807.86              1          0               1   \n",
       "2          8  159660.80              3          1               0   \n",
       "3          1       0.00              2          0               0   \n",
       "4          2  125510.82              1          1               1   \n",
       "...      ...        ...            ...        ...             ...   \n",
       "9995       5       0.00              2          1               0   \n",
       "9996      10   57369.61              1          1               1   \n",
       "9997       7       0.00              1          0               1   \n",
       "9998       3   75075.31              2          1               0   \n",
       "9999       4  130142.79              1          1               0   \n",
       "\n",
       "      EstimatedSalary  Exited  \n",
       "0           101348.88       1  \n",
       "1           112542.58       0  \n",
       "2           113931.57       1  \n",
       "3            93826.63       0  \n",
       "4            79084.10       0  \n",
       "...               ...     ...  \n",
       "9995         96270.64       0  \n",
       "9996        101699.77       0  \n",
       "9997         42085.58       1  \n",
       "9998         92888.52       1  \n",
       "9999         38190.78       0  \n",
       "\n",
       "[10000 rows x 14 columns]"
      ]
     },
     "execution_count": 4,
     "metadata": {},
     "output_type": "execute_result"
    }
   ],
   "source": [
    "data"
   ]
  },
  {
   "cell_type": "code",
   "execution_count": 4,
   "metadata": {},
   "outputs": [
    {
     "name": "stdout",
     "output_type": "stream",
     "text": [
      "[[619 'France' 'Female' ... 1 1 101348.88]\n",
      " [608 'Spain' 'Female' ... 0 1 112542.58]\n",
      " [502 'France' 'Female' ... 1 0 113931.57]\n",
      " ...\n",
      " [709 'France' 'Female' ... 0 1 42085.58]\n",
      " [772 'Germany' 'Male' ... 1 0 92888.52]\n",
      " [792 'France' 'Female' ... 1 0 38190.78]]\n"
     ]
    }
   ],
   "source": [
    "print(x)"
   ]
  },
  {
   "cell_type": "code",
   "execution_count": 5,
   "metadata": {},
   "outputs": [
    {
     "name": "stdout",
     "output_type": "stream",
     "text": [
      "[1 0 1 ... 1 1 0]\n"
     ]
    }
   ],
   "source": [
    "print(y)"
   ]
  },
  {
   "cell_type": "markdown",
   "metadata": {},
   "source": [
    "# Encoding Categorical data"
   ]
  },
  {
   "cell_type": "markdown",
   "metadata": {},
   "source": [
    "Label encoding of the Gender Column"
   ]
  },
  {
   "cell_type": "code",
   "execution_count": 6,
   "metadata": {},
   "outputs": [],
   "source": [
    "from sklearn.preprocessing import LabelEncoder\n",
    "le = LabelEncoder()\n",
    "x[:,2] = le.fit_transform(x[:,2])"
   ]
  },
  {
   "cell_type": "code",
   "execution_count": 7,
   "metadata": {},
   "outputs": [
    {
     "data": {
      "text/plain": [
       "array([0, 0, 0, ..., 0, 1, 0], dtype=object)"
      ]
     },
     "execution_count": 7,
     "metadata": {},
     "output_type": "execute_result"
    }
   ],
   "source": [
    "x[:,2]"
   ]
  },
  {
   "cell_type": "markdown",
   "metadata": {},
   "source": [
    "One Hot  Encoding of the 'Geography' column"
   ]
  },
  {
   "cell_type": "code",
   "execution_count": 8,
   "metadata": {},
   "outputs": [],
   "source": [
    "from sklearn.compose import ColumnTransformer\n",
    "from sklearn.preprocessing import OneHotEncoder\n",
    "ct = ColumnTransformer(transformers=[('encoder', OneHotEncoder(),[1])], remainder='passthrough')\n",
    "x = np.array(ct.fit_transform(x))"
   ]
  },
  {
   "cell_type": "code",
   "execution_count": 9,
   "metadata": {},
   "outputs": [
    {
     "data": {
      "text/plain": [
       "array([[1.0, 0.0, 0.0, ..., 1, 1, 101348.88],\n",
       "       [0.0, 0.0, 1.0, ..., 0, 1, 112542.58],\n",
       "       [1.0, 0.0, 0.0, ..., 1, 0, 113931.57],\n",
       "       ...,\n",
       "       [1.0, 0.0, 0.0, ..., 0, 1, 42085.58],\n",
       "       [0.0, 1.0, 0.0, ..., 1, 0, 92888.52],\n",
       "       [1.0, 0.0, 0.0, ..., 1, 0, 38190.78]], dtype=object)"
      ]
     },
     "execution_count": 9,
     "metadata": {},
     "output_type": "execute_result"
    }
   ],
   "source": [
    "x"
   ]
  },
  {
   "cell_type": "markdown",
   "metadata": {},
   "source": [
    "# Splitting the dataset"
   ]
  },
  {
   "cell_type": "code",
   "execution_count": 10,
   "metadata": {},
   "outputs": [],
   "source": [
    "from sklearn.model_selection import train_test_split\n",
    "x_train, x_test,y_train, y_test= train_test_split(x,y,test_size=0.2,random_state=0)"
   ]
  },
  {
   "cell_type": "markdown",
   "metadata": {},
   "source": [
    "# Feature scaling"
   ]
  },
  {
   "cell_type": "code",
   "execution_count": 11,
   "metadata": {},
   "outputs": [],
   "source": [
    "# Its very important tool kit when we talk about deep learning\n",
    "from sklearn.preprocessing import StandardScaler\n",
    "sc = StandardScaler()\n",
    "x_train = sc.fit_transform(x_train)\n",
    "x_test = sc.transform(x_test)"
   ]
  },
  {
   "cell_type": "markdown",
   "metadata": {},
   "source": [
    "# Part 2- Building the ANN"
   ]
  },
  {
   "cell_type": "markdown",
   "metadata": {},
   "source": [
    "Initializing the ANN"
   ]
  },
  {
   "cell_type": "code",
   "execution_count": 12,
   "metadata": {},
   "outputs": [],
   "source": [
    "ann = tf.keras.models.Sequential()"
   ]
  },
  {
   "cell_type": "markdown",
   "metadata": {},
   "source": [
    "Adding the input layer and the first hidden layer"
   ]
  },
  {
   "cell_type": "code",
   "execution_count": 13,
   "metadata": {},
   "outputs": [],
   "source": [
    "ann.add(tf.keras.layers.Dense(units=6,activation='relu'))"
   ]
  },
  {
   "cell_type": "markdown",
   "metadata": {},
   "source": [
    "Adding the second hidden layer"
   ]
  },
  {
   "cell_type": "code",
   "execution_count": 14,
   "metadata": {},
   "outputs": [],
   "source": [
    "ann.add(tf.keras.layers.Dense(units=6,activation='relu'))"
   ]
  },
  {
   "cell_type": "markdown",
   "metadata": {},
   "source": [
    "Adding the output layer"
   ]
  },
  {
   "cell_type": "code",
   "execution_count": 15,
   "metadata": {},
   "outputs": [],
   "source": [
    "ann.add(tf.keras.layers.Dense(units=1,activation='sigmoid'))"
   ]
  },
  {
   "cell_type": "markdown",
   "metadata": {},
   "source": [
    "# Part 3- Training the ANN"
   ]
  },
  {
   "cell_type": "markdown",
   "metadata": {},
   "source": [
    "Completing the ANN"
   ]
  },
  {
   "cell_type": "code",
   "execution_count": 16,
   "metadata": {},
   "outputs": [],
   "source": [
    "ann.compile(optimizer= 'adam',loss='binary_crossentropy',metrics=['accuracy'])"
   ]
  },
  {
   "cell_type": "markdown",
   "metadata": {},
   "source": [
    "Training the ANN on the Training Set"
   ]
  },
  {
   "cell_type": "code",
   "execution_count": 17,
   "metadata": {},
   "outputs": [
    {
     "name": "stdout",
     "output_type": "stream",
     "text": [
      "Epoch 1/100\n",
      "250/250 [==============================] - 1s 611us/step - loss: 0.6022 - accuracy: 0.7352\n",
      "Epoch 2/100\n",
      "250/250 [==============================] - 0s 578us/step - loss: 0.4536 - accuracy: 0.7980\n",
      "Epoch 3/100\n",
      "250/250 [==============================] - 0s 576us/step - loss: 0.4173 - accuracy: 0.8061\n",
      "Epoch 4/100\n",
      "250/250 [==============================] - 0s 583us/step - loss: 0.4280 - accuracy: 0.8018\n",
      "Epoch 5/100\n",
      "250/250 [==============================] - 0s 570us/step - loss: 0.4120 - accuracy: 0.8161\n",
      "Epoch 6/100\n",
      "250/250 [==============================] - 0s 638us/step - loss: 0.4013 - accuracy: 0.8205\n",
      "Epoch 7/100\n",
      "250/250 [==============================] - 0s 620us/step - loss: 0.4091 - accuracy: 0.8118\n",
      "Epoch 8/100\n",
      "250/250 [==============================] - 0s 573us/step - loss: 0.3977 - accuracy: 0.8224\n",
      "Epoch 9/100\n",
      "250/250 [==============================] - 0s 588us/step - loss: 0.3947 - accuracy: 0.8282\n",
      "Epoch 10/100\n",
      "250/250 [==============================] - 0s 589us/step - loss: 0.3852 - accuracy: 0.8344\n",
      "Epoch 11/100\n",
      "250/250 [==============================] - 0s 590us/step - loss: 0.3802 - accuracy: 0.8383\n",
      "Epoch 12/100\n",
      "250/250 [==============================] - 0s 566us/step - loss: 0.3851 - accuracy: 0.8349\n",
      "Epoch 13/100\n",
      "250/250 [==============================] - 0s 564us/step - loss: 0.3647 - accuracy: 0.8461\n",
      "Epoch 14/100\n",
      "250/250 [==============================] - 0s 564us/step - loss: 0.3690 - accuracy: 0.8418\n",
      "Epoch 15/100\n",
      "250/250 [==============================] - 0s 557us/step - loss: 0.3652 - accuracy: 0.8446\n",
      "Epoch 16/100\n",
      "250/250 [==============================] - 0s 512us/step - loss: 0.3480 - accuracy: 0.8524\n",
      "Epoch 17/100\n",
      "250/250 [==============================] - 0s 571us/step - loss: 0.3663 - accuracy: 0.8431\n",
      "Epoch 18/100\n",
      "250/250 [==============================] - 0s 614us/step - loss: 0.3469 - accuracy: 0.8562\n",
      "Epoch 19/100\n",
      "250/250 [==============================] - 0s 593us/step - loss: 0.3633 - accuracy: 0.8471\n",
      "Epoch 20/100\n",
      "250/250 [==============================] - 0s 595us/step - loss: 0.3377 - accuracy: 0.8591\n",
      "Epoch 21/100\n",
      "250/250 [==============================] - 0s 582us/step - loss: 0.3301 - accuracy: 0.8637\n",
      "Epoch 22/100\n",
      "250/250 [==============================] - 0s 577us/step - loss: 0.3420 - accuracy: 0.8615\n",
      "Epoch 23/100\n",
      "250/250 [==============================] - 0s 557us/step - loss: 0.3416 - accuracy: 0.8550\n",
      "Epoch 24/100\n",
      "250/250 [==============================] - 0s 536us/step - loss: 0.3466 - accuracy: 0.8567\n",
      "Epoch 25/100\n",
      "250/250 [==============================] - 0s 547us/step - loss: 0.3454 - accuracy: 0.8505\n",
      "Epoch 26/100\n",
      "250/250 [==============================] - 0s 563us/step - loss: 0.3334 - accuracy: 0.8628\n",
      "Epoch 27/100\n",
      "250/250 [==============================] - 0s 600us/step - loss: 0.3452 - accuracy: 0.8590\n",
      "Epoch 28/100\n",
      "250/250 [==============================] - 0s 556us/step - loss: 0.3299 - accuracy: 0.8675\n",
      "Epoch 29/100\n",
      "250/250 [==============================] - 0s 534us/step - loss: 0.3362 - accuracy: 0.8591\n",
      "Epoch 30/100\n",
      "250/250 [==============================] - 0s 545us/step - loss: 0.3430 - accuracy: 0.8582\n",
      "Epoch 31/100\n",
      "250/250 [==============================] - 0s 552us/step - loss: 0.3428 - accuracy: 0.8585\n",
      "Epoch 32/100\n",
      "250/250 [==============================] - 0s 598us/step - loss: 0.3452 - accuracy: 0.8565\n",
      "Epoch 33/100\n",
      "250/250 [==============================] - 0s 597us/step - loss: 0.3309 - accuracy: 0.8649\n",
      "Epoch 34/100\n",
      "250/250 [==============================] - 0s 548us/step - loss: 0.3306 - accuracy: 0.8707\n",
      "Epoch 35/100\n",
      "250/250 [==============================] - 0s 542us/step - loss: 0.3346 - accuracy: 0.8678\n",
      "Epoch 36/100\n",
      "250/250 [==============================] - 0s 552us/step - loss: 0.3323 - accuracy: 0.8675\n",
      "Epoch 37/100\n",
      "250/250 [==============================] - 0s 537us/step - loss: 0.3412 - accuracy: 0.8589\n",
      "Epoch 38/100\n",
      "250/250 [==============================] - 0s 551us/step - loss: 0.3411 - accuracy: 0.8602\n",
      "Epoch 39/100\n",
      "250/250 [==============================] - 0s 602us/step - loss: 0.3307 - accuracy: 0.8665\n",
      "Epoch 40/100\n",
      "250/250 [==============================] - 0s 641us/step - loss: 0.3467 - accuracy: 0.8591\n",
      "Epoch 41/100\n",
      "250/250 [==============================] - 0s 676us/step - loss: 0.3390 - accuracy: 0.8608\n",
      "Epoch 42/100\n",
      "250/250 [==============================] - 0s 559us/step - loss: 0.3241 - accuracy: 0.8679\n",
      "Epoch 43/100\n",
      "250/250 [==============================] - 0s 558us/step - loss: 0.3404 - accuracy: 0.8621\n",
      "Epoch 44/100\n",
      "250/250 [==============================] - 0s 548us/step - loss: 0.3301 - accuracy: 0.8685\n",
      "Epoch 45/100\n",
      "250/250 [==============================] - 0s 553us/step - loss: 0.3347 - accuracy: 0.8654\n",
      "Epoch 46/100\n",
      "250/250 [==============================] - 0s 540us/step - loss: 0.3364 - accuracy: 0.8633\n",
      "Epoch 47/100\n",
      "250/250 [==============================] - 0s 556us/step - loss: 0.3371 - accuracy: 0.8574\n",
      "Epoch 48/100\n",
      "250/250 [==============================] - 0s 543us/step - loss: 0.3321 - accuracy: 0.8637\n",
      "Epoch 49/100\n",
      "250/250 [==============================] - 0s 542us/step - loss: 0.3426 - accuracy: 0.8590\n",
      "Epoch 50/100\n",
      "250/250 [==============================] - 0s 554us/step - loss: 0.3262 - accuracy: 0.8670\n",
      "Epoch 51/100\n",
      "250/250 [==============================] - 0s 550us/step - loss: 0.3432 - accuracy: 0.8595\n",
      "Epoch 52/100\n",
      "250/250 [==============================] - 0s 549us/step - loss: 0.3420 - accuracy: 0.8599\n",
      "Epoch 53/100\n",
      "250/250 [==============================] - 0s 556us/step - loss: 0.3476 - accuracy: 0.8574\n",
      "Epoch 54/100\n",
      "250/250 [==============================] - 0s 554us/step - loss: 0.3305 - accuracy: 0.8641\n",
      "Epoch 55/100\n",
      "250/250 [==============================] - 0s 550us/step - loss: 0.3251 - accuracy: 0.8706\n",
      "Epoch 56/100\n",
      "250/250 [==============================] - 0s 550us/step - loss: 0.3266 - accuracy: 0.8681\n",
      "Epoch 57/100\n",
      "250/250 [==============================] - 0s 546us/step - loss: 0.3339 - accuracy: 0.8637\n",
      "Epoch 58/100\n",
      "250/250 [==============================] - 0s 546us/step - loss: 0.3295 - accuracy: 0.8648\n",
      "Epoch 59/100\n",
      "250/250 [==============================] - 0s 539us/step - loss: 0.3352 - accuracy: 0.8614\n",
      "Epoch 60/100\n",
      "250/250 [==============================] - 0s 550us/step - loss: 0.3346 - accuracy: 0.8649\n",
      "Epoch 61/100\n",
      "250/250 [==============================] - 0s 532us/step - loss: 0.3302 - accuracy: 0.8677\n",
      "Epoch 62/100\n",
      "250/250 [==============================] - 0s 565us/step - loss: 0.3356 - accuracy: 0.8603\n",
      "Epoch 63/100\n",
      "250/250 [==============================] - 0s 608us/step - loss: 0.3359 - accuracy: 0.8583\n",
      "Epoch 64/100\n",
      "250/250 [==============================] - 0s 565us/step - loss: 0.3381 - accuracy: 0.8553\n",
      "Epoch 65/100\n",
      "250/250 [==============================] - 0s 546us/step - loss: 0.3355 - accuracy: 0.8650\n",
      "Epoch 66/100\n",
      "250/250 [==============================] - 0s 551us/step - loss: 0.3408 - accuracy: 0.8574\n",
      "Epoch 67/100\n",
      "250/250 [==============================] - 0s 536us/step - loss: 0.3522 - accuracy: 0.8559\n",
      "Epoch 68/100\n",
      "250/250 [==============================] - 0s 544us/step - loss: 0.3376 - accuracy: 0.8629\n",
      "Epoch 69/100\n",
      "250/250 [==============================] - 0s 549us/step - loss: 0.3336 - accuracy: 0.8619\n",
      "Epoch 70/100\n",
      "250/250 [==============================] - 0s 542us/step - loss: 0.3232 - accuracy: 0.8709\n",
      "Epoch 71/100\n",
      "250/250 [==============================] - 0s 525us/step - loss: 0.3393 - accuracy: 0.8600\n",
      "Epoch 72/100\n",
      "250/250 [==============================] - 0s 527us/step - loss: 0.3259 - accuracy: 0.8681\n",
      "Epoch 73/100\n",
      "250/250 [==============================] - 0s 547us/step - loss: 0.3402 - accuracy: 0.8601\n",
      "Epoch 74/100\n",
      "250/250 [==============================] - 0s 556us/step - loss: 0.3225 - accuracy: 0.8729\n",
      "Epoch 75/100\n",
      "250/250 [==============================] - 0s 559us/step - loss: 0.3272 - accuracy: 0.8670\n",
      "Epoch 76/100\n",
      "250/250 [==============================] - 0s 552us/step - loss: 0.3348 - accuracy: 0.8632\n",
      "Epoch 77/100\n",
      "250/250 [==============================] - 0s 622us/step - loss: 0.3419 - accuracy: 0.8552\n",
      "Epoch 78/100\n",
      "250/250 [==============================] - 0s 560us/step - loss: 0.3381 - accuracy: 0.8580\n",
      "Epoch 79/100\n",
      "250/250 [==============================] - 0s 560us/step - loss: 0.3311 - accuracy: 0.8620\n",
      "Epoch 80/100\n",
      "250/250 [==============================] - 0s 538us/step - loss: 0.3402 - accuracy: 0.8573\n",
      "Epoch 81/100\n",
      "250/250 [==============================] - 0s 525us/step - loss: 0.3309 - accuracy: 0.8627\n",
      "Epoch 82/100\n",
      "250/250 [==============================] - 0s 538us/step - loss: 0.3359 - accuracy: 0.8589\n",
      "Epoch 83/100\n",
      "250/250 [==============================] - 0s 529us/step - loss: 0.3395 - accuracy: 0.8605\n",
      "Epoch 84/100\n",
      "250/250 [==============================] - 0s 538us/step - loss: 0.3333 - accuracy: 0.8611\n",
      "Epoch 85/100\n",
      "250/250 [==============================] - 0s 589us/step - loss: 0.3302 - accuracy: 0.8649\n",
      "Epoch 86/100\n",
      "250/250 [==============================] - 0s 578us/step - loss: 0.3526 - accuracy: 0.8533\n",
      "Epoch 87/100\n",
      "250/250 [==============================] - 0s 561us/step - loss: 0.3343 - accuracy: 0.8588\n",
      "Epoch 88/100\n",
      "250/250 [==============================] - 0s 549us/step - loss: 0.3459 - accuracy: 0.8505\n",
      "Epoch 89/100\n",
      "250/250 [==============================] - 0s 571us/step - loss: 0.3281 - accuracy: 0.8633\n",
      "Epoch 90/100\n",
      "250/250 [==============================] - 0s 572us/step - loss: 0.3370 - accuracy: 0.8621\n",
      "Epoch 91/100\n",
      "250/250 [==============================] - 0s 569us/step - loss: 0.3348 - accuracy: 0.8571\n",
      "Epoch 92/100\n",
      "250/250 [==============================] - 0s 567us/step - loss: 0.3365 - accuracy: 0.8580\n",
      "Epoch 93/100\n",
      "250/250 [==============================] - 0s 567us/step - loss: 0.3303 - accuracy: 0.8602\n",
      "Epoch 94/100\n",
      "250/250 [==============================] - 0s 565us/step - loss: 0.3355 - accuracy: 0.8593\n",
      "Epoch 95/100\n",
      "250/250 [==============================] - 0s 554us/step - loss: 0.3294 - accuracy: 0.8613\n",
      "Epoch 96/100\n",
      "250/250 [==============================] - 0s 521us/step - loss: 0.3285 - accuracy: 0.8610\n",
      "Epoch 97/100\n",
      "250/250 [==============================] - 0s 513us/step - loss: 0.3340 - accuracy: 0.8598\n",
      "Epoch 98/100\n",
      "250/250 [==============================] - 0s 520us/step - loss: 0.3265 - accuracy: 0.8654\n",
      "Epoch 99/100\n",
      "250/250 [==============================] - 0s 569us/step - loss: 0.3385 - accuracy: 0.8578\n",
      "Epoch 100/100\n",
      "250/250 [==============================] - 0s 518us/step - loss: 0.3337 - accuracy: 0.8592\n"
     ]
    },
    {
     "data": {
      "text/plain": [
       "<tensorflow.python.keras.callbacks.History at 0x7fc3907cc7f0>"
      ]
     },
     "execution_count": 17,
     "metadata": {},
     "output_type": "execute_result"
    }
   ],
   "source": [
    "ann.fit(x_train,y_train, batch_size = 32, epochs = 100)"
   ]
  },
  {
   "cell_type": "code",
   "execution_count": 18,
   "metadata": {},
   "outputs": [
    {
     "name": "stdout",
     "output_type": "stream",
     "text": [
      "[[False]]\n"
     ]
    }
   ],
   "source": [
    "print(ann.predict(sc.transform([[1 ,0 ,0 ,600 ,1 ,40 ,3 ,60000 ,2 ,1 ,1 ,50000]])) >0.5)"
   ]
  },
  {
   "cell_type": "code",
   "execution_count": 19,
   "metadata": {},
   "outputs": [
    {
     "name": "stdout",
     "output_type": "stream",
     "text": [
      "[[0 0]\n",
      " [0 1]\n",
      " [0 0]\n",
      " ...\n",
      " [0 0]\n",
      " [0 0]\n",
      " [0 0]]\n"
     ]
    }
   ],
   "source": [
    "y_pred = ann.predict(x_test)\n",
    "y_pred = (y_pred>0.5)\n",
    "print(np.concatenate((y_pred.reshape(len(y_pred),1), y_test.reshape(len(y_test),1)),1))"
   ]
  },
  {
   "cell_type": "code",
   "execution_count": 20,
   "metadata": {},
   "outputs": [
    {
     "name": "stdout",
     "output_type": "stream",
     "text": [
      "[[1514   81]\n",
      " [ 199  206]]\n"
     ]
    },
    {
     "data": {
      "text/plain": [
       "0.86"
      ]
     },
     "execution_count": 20,
     "metadata": {},
     "output_type": "execute_result"
    }
   ],
   "source": [
    "from sklearn.metrics import confusion_matrix, accuracy_score\n",
    "cm = confusion_matrix(y_test, y_pred)\n",
    "print(cm)\n",
    "accuracy_score(y_test, y_pred)"
   ]
  },
  {
   "cell_type": "code",
   "execution_count": null,
   "metadata": {},
   "outputs": [],
   "source": []
  }
 ],
 "metadata": {
  "kernelspec": {
   "display_name": "Python 3",
   "language": "python",
   "name": "python3"
  },
  "language_info": {
   "codemirror_mode": {
    "name": "ipython",
    "version": 3
   },
   "file_extension": ".py",
   "mimetype": "text/x-python",
   "name": "python",
   "nbconvert_exporter": "python",
   "pygments_lexer": "ipython3",
   "version": "3.8.0"
  }
 },
 "nbformat": 4,
 "nbformat_minor": 4
}
